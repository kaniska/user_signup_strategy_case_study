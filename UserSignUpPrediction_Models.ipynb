{
 "cells": [
  {
   "cell_type": "code",
   "execution_count": 1,
   "metadata": {},
   "outputs": [],
   "source": [
    "import os\n",
    "# Install java\n",
    "! sudo apt-get install -y openjdk-8-jdk-headless -qq > /dev/null\n",
    "os.environ[\"JAVA_HOME\"] = \"/usr/lib/jvm/java-8-openjdk-amd64\"\n",
    "os.environ[\"PATH\"] = os.environ[\"JAVA_HOME\"] + \"/bin:\" + os.environ[\"PATH\"]\n",
    "\n",
    "os.environ[\"SPARK_HOME\"] = \"/opt/conda/lib/python3.7/site-packages/pyspark/\"\n",
    "os.environ[\"PATH\"] = os.environ[\"SPARK_HOME\"] + \"/bin:\" + os.environ[\"PATH\"]\n",
    "os.environ[\"geospark.global.charset\"]=\"utf8\""
   ]
  },
  {
   "cell_type": "code",
   "execution_count": 26,
   "metadata": {},
   "outputs": [
    {
     "data": {
      "text/plain": [
       "'2.4.5'"
      ]
     },
     "execution_count": 26,
     "metadata": {},
     "output_type": "execute_result"
    }
   ],
   "source": [
    "import matplotlib.pyplot as plt\n",
    "import seaborn as sns\n",
    "import json\n",
    "from pyspark.ml import Pipeline\n",
    "from pyspark.sql import SparkSession\n",
    "\n",
    "def start():\n",
    "    builder = SparkSession.builder \\\n",
    "        .appName(\"Spark Data Processor\") \\\n",
    "        .master(\"local[*]\") \\\n",
    "        .config(\"spark.driver.memory\", \"22G\") \\\n",
    "        .config(\"spark.serializer\", \"org.apache.spark.serializer.KryoSerializer\") \\\n",
    "        .config(\"spark.kryoserializer.buffer.max\", \"2000M\") \\\n",
    "        .config(\"fs.gs.impl\", \"com.google.cloud.hadoop.fs.gcs.GoogleHadoopFileSystem\") \\\n",
    "        .config(\"fs.AbstractFileSystem.gs.impl\", \"com.google.cloud.hadoop.fs.gcs.GoogleHadoopFS\")\n",
    "    return builder.getOrCreate()\n",
    "spark = start()\n",
    "spark.version"
   ]
  },
  {
   "cell_type": "code",
   "execution_count": 27,
   "metadata": {},
   "outputs": [],
   "source": [
    "rawDataDF = spark.read.format('csv').options(header='true').load(\"gs://marketing-campaigns/bank-full.csv\")"
   ]
  },
  {
   "cell_type": "code",
   "execution_count": 18,
   "metadata": {},
   "outputs": [
    {
     "data": {
      "text/plain": [
       "[Row(\"age\";\"job\";\"marital\";\"education\";\"default\";\"balance\";\"housing\";\"loan\";\"contact\";\"day\";\"month\";\"duration\";\"campaign\";\"pdays\";\"previous\";\"poutcome\";\"y\"='58;\"management\";\"married\";\"tertiary\";\"no\";2143;\"yes\";\"no\";\"unknown\";5;\"may\";261;1;-1;0;\"unknown\";\"no\"')]"
      ]
     },
     "execution_count": 18,
     "metadata": {},
     "output_type": "execute_result"
    }
   ],
   "source": [
    "rawDataDF.head(1)"
   ]
  },
  {
   "cell_type": "code",
   "execution_count": 56,
   "metadata": {},
   "outputs": [],
   "source": [
    "from sklearn.preprocessing import RobustScaler\n",
    "from sklearn.model_selection import train_test_split\n",
    "from sklearn.pipeline import Pipeline\n",
    "from sklearn.preprocessing import StandardScaler, OneHotEncoder\n",
    "from sklearn.compose import ColumnTransformer\n",
    "from sklearn.linear_model import LogisticRegression\n",
    "from sklearn.svm import LinearSVC\n",
    "from sklearn.tree import DecisionTreeClassifier \n",
    "from sklearn.ensemble import RandomForestClassifier\n",
    "from sklearn.metrics import classification_report\n",
    "from sklearn.metrics import confusion_matrix\n",
    "\n",
    "import pandas as pd\n",
    "\n",
    "dataFile=\"gs://marketing-campaigns/bank-full.csv\"\n",
    "RANDOM_STATE=545510477"
   ]
  },
  {
   "cell_type": "code",
   "execution_count": 59,
   "metadata": {},
   "outputs": [],
   "source": [
    "def loadTrainingData(dataFile):\n",
    "    pdBankDF = pd.read_csv(dataFile,sep=\";\")\n",
    "    pdBankDF.head(2)\n",
    "    return pdBankDF"
   ]
  },
  {
   "cell_type": "code",
   "execution_count": 60,
   "metadata": {},
   "outputs": [],
   "source": [
    "def buildPreprocessor(pdBankDF):\n",
    "    scaler = RobustScaler()\n",
    "    pdBankDF['age_scaled'] = scaler.fit_transform(pdBankDF['age'].values.reshape(-1,1))\n",
    "    pdBankDF['bal_scaled'] = scaler.fit_transform(pdBankDF['balance'].values.reshape(-1,1))\n",
    "    pdBankDF['dur_caled'] = scaler.fit_transform(pdBankDF['duration'].values.reshape(-1,1))\n",
    "    pdBankDF.drop(['age','balance','duration'], axis=1, inplace=True)\n",
    "    pdBankDF.head(2)\n",
    "    categorical_transformer = Pipeline(steps=[('onehot', OneHotEncoder(handle_unknown='ignore'))])\n",
    "    numeric_transformer = Pipeline(steps=[('scaler', StandardScaler())])\n",
    "\n",
    "    numeric_features = pdBankDF.select_dtypes(include=['int64', 'float64']).columns\n",
    "    categorical_features = pdBankDF.select_dtypes(include=['object']).columns\n",
    "\n",
    "    preprocessor = ColumnTransformer(transformers=[('num', numeric_transformer, numeric_features),\n",
    "                                                   ('cat', categorical_transformer, categorical_features)])\n",
    "    return preprocessor"
   ]
  },
  {
   "cell_type": "code",
   "execution_count": 61,
   "metadata": {},
   "outputs": [],
   "source": [
    "def splitTrainingData(pdBankDF):\n",
    "    Y = pdBankDF.pop('y')\n",
    "    X_train, X_test, y_train, y_test = train_test_split(pdBankDF, Y, test_size=0.3, random_state=123)\n",
    "    return X_train, X_test, y_train, y_test\n",
    "\n",
    "def buildAndRunLogRegModel(X_train, X_test, y_train, y_test, preprocessor):\n",
    "    lrModel = Pipeline(steps=[('preprocessor', preprocessor),                      \n",
    "                           ('classifier',LogisticRegression(max_iter=1000))])\n",
    "    lrModel.fit(X_train, y_train)  \n",
    "    print(\"model score: %.2f\" % lrModel.score(X_train, y_train))\n",
    "    return lrModel\n",
    "    \n",
    "def buildAndRunSVMModel(X_train, X_test, y_train, y_test, preprocessor):\n",
    "    svmModel = Pipeline(steps=[('preprocessor', preprocessor),                      \n",
    "                           ('classifier',LinearSVC(max_iter=5000))])\n",
    "    svmModel.fit(X_train, y_train)  \n",
    "    print(\"model score: %.2f\" % svmModel.score(X_train, y_train))\n",
    "    return svmModel\n",
    "    \n",
    "def buildAndRunDTreeModel(X_train, X_test, y_train, y_test, preprocessor):\n",
    "    dtreeModel = Pipeline(steps=[('preprocessor', preprocessor),                      \n",
    "                           ('classifier',DecisionTreeClassifier(max_depth=5))])\n",
    "    dtreeModel.fit(X_train, y_train) \n",
    "    print(\"model score: %.2f\" % dtreeModel.score(X_train, y_train))\n",
    "    return dtreeModel\n"
   ]
  },
  {
   "cell_type": "code",
   "execution_count": 62,
   "metadata": {},
   "outputs": [],
   "source": [
    "def predictAndMeasurePerformence(X_test, userSignUpPredModel):\n",
    "    pred = userSignUpPredModel.predict(X_test)\n",
    "    print(classification_report(pred,y_test))\n",
    "    # Confusion Matrix for the model\n",
    "    \n",
    "    confusionMatrix = confusion_matrix(y_test, pred)\n",
    "    print(confusionMatrix)\n",
    "    #print('Percentage of negative class :',(y_train[y_train=='yes'].value_counts()/len(y_train) ) * 100)\n",
    "    #print('Percentage of positive class :',(y_train[y_train=='no'].value_counts()/len(y_train) ) * 100)"
   ]
  },
  {
   "cell_type": "code",
   "execution_count": null,
   "metadata": {},
   "outputs": [],
   "source": [
    "bankDF = loadTrainingData(dataFile)\n",
    "updatedBankDF, preprocessor = buildPreprocessor(bankDF)\n"
   ]
  },
  {
   "cell_type": "code",
   "execution_count": null,
   "metadata": {},
   "outputs": [],
   "source": [
    "X_train, X_test, y_train, y_test = splitTrainingData(updatedBankDF)"
   ]
  },
  {
   "cell_type": "code",
   "execution_count": null,
   "metadata": {},
   "outputs": [],
   "source": [
    "lrModel = buildAndRunLogRegModel(X_train, X_test, y_train, y_test, preprocessor)\n",
    "predictAndMeasurePerformence(X_test,lrModel)"
   ]
  },
  {
   "cell_type": "code",
   "execution_count": null,
   "metadata": {},
   "outputs": [],
   "source": [
    "svmModel = buildAndRunSVMModel(X_train, X_test, y_train, y_test, preprocessor)\n",
    "predictAndMeasurePerformence(X_test,svmModel)"
   ]
  },
  {
   "cell_type": "code",
   "execution_count": null,
   "metadata": {},
   "outputs": [],
   "source": [
    "dtreeModel = buildAndRunDTreeModel(X_train, X_test, y_train, y_test, preprocessor)\n",
    "predictAndMeasurePerformence(X_test,dtreeModel)"
   ]
  },
  {
   "cell_type": "code",
   "execution_count": 88,
   "metadata": {},
   "outputs": [],
   "source": [
    "def buildAndRunLogRegModelV2(RANDOM_STATE, X_train, X_test, y_train, y_test, preprocessor):\n",
    "    from sklearn.model_selection import GridSearchCV\n",
    "    from sklearn.model_selection import StratifiedKFold\n",
    "    import numpy as np\n",
    "    import matplotlib.pyplot as plt\n",
    "    from IPython.display import display\n",
    "    \n",
    "    lrPipe = Pipeline(steps=[('preprocessor', preprocessor),                      \n",
    "                           ('classifier',\n",
    "                            LogisticRegression(C=0.0001,dual=False,tol=0.001,\n",
    "                                                            fit_intercept=True,intercept_scaling=1.0,penalty='l2',solver='lbfgs',random_state=RANDOM_STATE,max_iter=1000)\n",
    "                           )])\n",
    "    #param_grid = {'kernel':('linear', 'rbf'), 'C':[1, 10]}\n",
    "    param_grid = [\n",
    "        {'classifier' : [LogisticRegression()],\n",
    "         'classifier__penalty' : ['l1', 'l2'],\n",
    "        'classifier__C' : np.logspace(-4, 4, 20),\n",
    "        'classifier__solver' : ['liblinear','rbf']}]\n",
    "\n",
    "    clf = GridSearchCV(lrPipe, param_grid = param_grid, cv = 5, verbose=True, n_jobs=-1)\n",
    "\n",
    "    #Fit on data\n",
    "\n",
    "    best_clf = clf.fit(X_train, y_train)\n",
    "\n",
    "    print(\"model score: %.2f\" % best_clf.score(X_train, y_train))\n",
    "    return best_clf"
   ]
  },
  {
   "cell_type": "code",
   "execution_count": 89,
   "metadata": {},
   "outputs": [
    {
     "name": "stdout",
     "output_type": "stream",
     "text": [
      "Fitting 5 folds for each of 40 candidates, totalling 200 fits\n"
     ]
    },
    {
     "name": "stderr",
     "output_type": "stream",
     "text": [
      "[Parallel(n_jobs=-1)]: Using backend LokyBackend with 8 concurrent workers.\n",
      "[Parallel(n_jobs=-1)]: Done  34 tasks      | elapsed:    2.0s\n",
      "[Parallel(n_jobs=-1)]: Done 184 tasks      | elapsed:   21.2s\n",
      "[Parallel(n_jobs=-1)]: Done 200 out of 200 | elapsed:   22.0s finished\n"
     ]
    },
    {
     "name": "stdout",
     "output_type": "stream",
     "text": [
      "model score: 0.90\n",
      "              precision    recall  f1-score   support\n",
      "\n",
      "          no       0.98      0.92      0.95     12773\n",
      "         yes       0.32      0.64      0.43       791\n",
      "\n",
      "    accuracy                           0.90     13564\n",
      "   macro avg       0.65      0.78      0.69     13564\n",
      "weighted avg       0.94      0.90      0.92     13564\n",
      "\n",
      "[[11710   288]\n",
      " [ 1063   503]]\n"
     ]
    }
   ],
   "source": [
    "dtreeModelV2 = buildAndRunLogRegModelV2(RANDOM_STATE,X_train, X_test, y_train, y_test, preprocessor)\n",
    "predictAndMeasurePerformence(X_test,dtreeModelV2)"
   ]
  },
  {
   "cell_type": "code",
   "execution_count": 96,
   "metadata": {},
   "outputs": [],
   "source": [
    "def buildAndRunRandomForestModel(RANDOM_STATE, X_train, X_test, y_train, y_test, preprocessor):\n",
    "    from sklearn.model_selection import GridSearchCV\n",
    "    from sklearn.model_selection import StratifiedKFold\n",
    "    import numpy as np\n",
    "    import matplotlib.pyplot as plt\n",
    "    from IPython.display import display\n",
    "    \n",
    "    rfPipe = Pipeline(steps=[('preprocessor', preprocessor),                      \n",
    "                           ('classifier',RandomForestClassifier())])\n",
    "    #param_grid = {'kernel':('linear', 'rbf'), 'C':[1, 10]}\n",
    "    param_grid = [{'classifier' : [RandomForestClassifier()],\n",
    "    'classifier__n_estimators' : list(range(10,101,10)),\n",
    "    'classifier__max_features' : list(range(6,32,5))}]\n",
    "\n",
    "    clf = GridSearchCV(rfPipe, param_grid = param_grid, cv = 5, verbose=True, n_jobs=-1)\n",
    "\n",
    "    #Fit on data\n",
    "\n",
    "    best_clf = clf.fit(X_train, y_train)\n",
    "\n",
    "    print(\"model score: %.2f\" % best_clf.score(X_train, y_train))\n",
    "    return best_clf"
   ]
  },
  {
   "cell_type": "code",
   "execution_count": 97,
   "metadata": {},
   "outputs": [
    {
     "name": "stdout",
     "output_type": "stream",
     "text": [
      "Fitting 5 folds for each of 60 candidates, totalling 300 fits\n"
     ]
    },
    {
     "name": "stderr",
     "output_type": "stream",
     "text": [
      "[Parallel(n_jobs=-1)]: Using backend LokyBackend with 8 concurrent workers.\n",
      "[Parallel(n_jobs=-1)]: Done  34 tasks      | elapsed:   12.3s\n",
      "[Parallel(n_jobs=-1)]: Done 184 tasks      | elapsed:  1.8min\n",
      "[Parallel(n_jobs=-1)]: Done 300 out of 300 | elapsed:  4.0min finished\n"
     ]
    },
    {
     "name": "stdout",
     "output_type": "stream",
     "text": [
      "model score: 0.90\n",
      "              precision    recall  f1-score   support\n",
      "\n",
      "          no       0.96      0.93      0.95     12397\n",
      "         yes       0.46      0.62      0.53      1167\n",
      "\n",
      "    accuracy                           0.90     13564\n",
      "   macro avg       0.71      0.77      0.74     13564\n",
      "weighted avg       0.92      0.90      0.91     13564\n",
      "\n",
      "[[11549   449]\n",
      " [  848   718]]\n"
     ]
    }
   ],
   "source": [
    "rfModel = buildAndRunRandomForestModel(RANDOM_STATE,X_train, X_test, y_train, y_test, preprocessor)\n",
    "predictAndMeasurePerformence(X_test,rfModel)"
   ]
  },
  {
   "cell_type": "code",
   "execution_count": null,
   "metadata": {},
   "outputs": [],
   "source": [
    "!pip install smote-variants"
   ]
  },
  {
   "cell_type": "code",
   "execution_count": 31,
   "metadata": {},
   "outputs": [],
   "source": [
    "def preProcessDataV2(pdBankDF):\n",
    "    from sklearn import preprocessing\n",
    "    #le = preprocessing.LabelEncoder()\n",
    "    #le.fit(['job','marital','education','default','housing','loan','contact','month','poutcome'])\n",
    "    \n",
    "    scaler = RobustScaler()\n",
    "    pdBankDF['age_scaled'] = scaler.fit_transform(pdBankDF['age'].values.reshape(-1,1))\n",
    "    pdBankDF['bal_scaled'] = scaler.fit_transform(pdBankDF['balance'].values.reshape(-1,1))\n",
    "    pdBankDF['dur_caled'] = scaler.fit_transform(pdBankDF['duration'].values.reshape(-1,1))\n",
    "    pdBankDF.drop(['age','balance','duration'], axis=1, inplace=True)\n",
    "    bankCat = pd.get_dummies(pdBankDF[['job','marital','education','default','housing','loan','contact','month','poutcome']])\n",
    "    bankNum = pdBankDF[['age_scaled','bal_scaled','day','dur_caled','campaign','pdays','previous']]\n",
    "    X = pd.concat([bankCat, bankNum], axis=1)\n",
    "    Y = pdBankDF['y']\n",
    "    return X, Y"
   ]
  },
  {
   "cell_type": "code",
   "execution_count": 109,
   "metadata": {},
   "outputs": [
    {
     "name": "stdout",
     "output_type": "stream",
     "text": [
      "Before OverSampling count of yes: 3723\n",
      "Before OverSampling count of no: 27924 \n",
      "\n"
     ]
    }
   ],
   "source": [
    "from sklearn import preprocessing\n",
    "pdBankDF = loadTrainingData(dataFile)\n",
    "X, Y = preProcessDataV2(pdBankDF)\n",
    "X_train, X_test, y_train, y_test = train_test_split(X, Y, test_size=0.3, random_state=123)\n",
    "\n",
    "print(\"Before OverSampling count of yes: {}\".format(sum(y_train=='yes')))\n",
    "print(\"Before OverSampling count of no: {} \\n\".format(sum(y_train=='no')))"
   ]
  },
  {
   "cell_type": "code",
   "execution_count": 110,
   "metadata": {},
   "outputs": [
    {
     "name": "stderr",
     "output_type": "stream",
     "text": [
      "2020-10-25 06:02:47,105:INFO:SMOTE: Running sampling via ('SMOTE', \"{'proportion': 1.0, 'n_neighbors': 5, 'n_jobs': 1, 'random_state': None}\")\n"
     ]
    },
    {
     "name": "stdout",
     "output_type": "stream",
     "text": [
      "After OverSampling, counts of label 'Yes': 27924\n",
      "After OverSampling, counts of label 'no': 27924\n"
     ]
    }
   ],
   "source": [
    "import smote_variants as sv\n",
    "import numpy as np\n",
    "oversampler= sv.SMOTE()\n",
    "X_train_balanced, y_train_balanced = oversampler.sample(np.array(X_train), np.array(y_train))\n",
    "\n",
    "print(\"After OverSampling, counts of label 'Yes': {}\".format(sum(y_train_balanced=='yes')))\n",
    "print(\"After OverSampling, counts of label 'no': {}\".format(sum(y_train_balanced=='no')))"
   ]
  },
  {
   "cell_type": "code",
   "execution_count": 112,
   "metadata": {},
   "outputs": [
    {
     "name": "stderr",
     "output_type": "stream",
     "text": [
      "/opt/conda/lib/python3.7/site-packages/sklearn/linear_model/_logistic.py:764: ConvergenceWarning: lbfgs failed to converge (status=1):\n",
      "STOP: TOTAL NO. of ITERATIONS REACHED LIMIT.\n",
      "\n",
      "Increase the number of iterations (max_iter) or scale the data as shown in:\n",
      "    https://scikit-learn.org/stable/modules/preprocessing.html\n",
      "Please also refer to the documentation for alternative solver options:\n",
      "    https://scikit-learn.org/stable/modules/linear_model.html#logistic-regression\n",
      "  extra_warning_msg=_LOGISTIC_SOLVER_CONVERGENCE_MSG)\n"
     ]
    },
    {
     "name": "stdout",
     "output_type": "stream",
     "text": [
      "Accuracy of Logistic regression model prediction on test set for Smote balanced data set: 0.85\n",
      "[[10225  1773]\n",
      " [  329  1237]]\n",
      "              precision    recall  f1-score   support\n",
      "\n",
      "          no       0.97      0.85      0.91     11998\n",
      "         yes       0.41      0.79      0.54      1566\n",
      "\n",
      "    accuracy                           0.85     13564\n",
      "   macro avg       0.69      0.82      0.72     13564\n",
      "weighted avg       0.90      0.85      0.86     13564\n",
      "\n"
     ]
    }
   ],
   "source": [
    "bankModel2 = LogisticRegression()\n",
    "bankModel2.fit(X_train_balanced, y_train_balanced)\n",
    "pred = bankModel2.predict(X_test)\n",
    "print('Accuracy of Logistic regression model prediction on test set for Smote balanced data set: {:.2f}'.format(bankModel2.score(X_test, y_test)))\n",
    "\n",
    "confusionMatrix = confusion_matrix(y_test, pred)\n",
    "print(confusionMatrix)\n",
    "print(classification_report(y_test, pred))"
   ]
  },
  {
   "cell_type": "code",
   "execution_count": 48,
   "metadata": {},
   "outputs": [],
   "source": [
    "def evaluateModelLRV2(X_train_balanced, y_train_balanced, X_test, y_test):\n",
    "    from sklearn.model_selection import GridSearchCV\n",
    "    from sklearn.model_selection import StratifiedKFold\n",
    "    import numpy as np\n",
    "\n",
    "    lrPipe = Pipeline(steps=[('classifier',LogisticRegression())])\n",
    "    param_grid = [{'classifier' : [LogisticRegression()],\n",
    "         'classifier__penalty' : ['l1', 'l2'],\n",
    "        'classifier__C' : np.logspace(-4, 4, 20),\n",
    "        'classifier__solver' : ['liblinear','rbf']}]\n",
    "\n",
    "    clf = GridSearchCV(lrPipe,param_grid = param_grid, cv = 5, verbose=True, n_jobs=-1)\n",
    "\n",
    "    #Fit on data\n",
    "\n",
    "    best_clf = clf.fit(X_train_balanced, y_train_balanced)\n",
    "\n",
    "    print(\"model score: %.2f\" % best_clf.score(X_train_balanced, y_train_balanced))\n",
    "\n",
    "    pred = best_clf.predict(X_test)\n",
    "    confusionMatrix = confusion_matrix(y_test, pred)\n",
    "    print(confusionMatrix)\n",
    "    print(classification_report(y_test, pred))\n"
   ]
  },
  {
   "cell_type": "code",
   "execution_count": 51,
   "metadata": {},
   "outputs": [],
   "source": [
    "def evaluateRFModelV2(X_train_balanced, y_train_balanced, X_test, y_test):\n",
    "    from sklearn.model_selection import GridSearchCV\n",
    "    from sklearn.model_selection import StratifiedKFold\n",
    "    import numpy as np\n",
    "\n",
    "    rfPipe = Pipeline(steps=[('classifier',RandomForestClassifier())])\n",
    "    \n",
    "    param_grid = [{'classifier' : [RandomForestClassifier()],\n",
    "    'classifier__n_estimators' : list(range(10,101,10)),\n",
    "    'classifier__max_features' : list(range(6,32,5))}]\n",
    "\n",
    "    clf = GridSearchCV(rfPipe, param_grid = param_grid, cv = 5, verbose=True, n_jobs=-1)\n",
    "\n",
    "    #Fit on data\n",
    "\n",
    "    best_clf = clf.fit(X_train_balanced, y_train_balanced)\n",
    "\n",
    "    print(\"model score: %.2f\" % best_clf.score(X_train_balanced, y_train_balanced))\n",
    "\n",
    "    pred = best_clf.predict(X_test)\n",
    "    confusionMatrix = confusion_matrix(y_test, pred)\n",
    "    print(confusionMatrix)\n",
    "    print(classification_report(y_test, pred))"
   ]
  },
  {
   "cell_type": "code",
   "execution_count": 121,
   "metadata": {},
   "outputs": [
    {
     "name": "stdout",
     "output_type": "stream",
     "text": [
      "Fitting 5 folds for each of 80 candidates, totalling 400 fits\n"
     ]
    },
    {
     "name": "stderr",
     "output_type": "stream",
     "text": [
      "[Parallel(n_jobs=-1)]: Using backend LokyBackend with 8 concurrent workers.\n",
      "[Parallel(n_jobs=-1)]: Done  34 tasks      | elapsed:    1.8s\n",
      "[Parallel(n_jobs=-1)]: Done 184 tasks      | elapsed:   10.3s\n",
      "[Parallel(n_jobs=-1)]: Done 400 out of 400 | elapsed:   25.9s finished\n"
     ]
    },
    {
     "name": "stdout",
     "output_type": "stream",
     "text": [
      "model score: 0.85\n",
      "[[10258  1740]\n",
      " [  315  1251]]\n",
      "              precision    recall  f1-score   support\n",
      "\n",
      "          no       0.97      0.85      0.91     11998\n",
      "         yes       0.42      0.80      0.55      1566\n",
      "\n",
      "    accuracy                           0.85     13564\n",
      "   macro avg       0.69      0.83      0.73     13564\n",
      "weighted avg       0.91      0.85      0.87     13564\n",
      "\n"
     ]
    }
   ],
   "source": [
    "evaluateModelLRV2(X_train_balanced, y_train_balanced, X_test, y_test)"
   ]
  },
  {
   "cell_type": "code",
   "execution_count": null,
   "metadata": {},
   "outputs": [
    {
     "name": "stdout",
     "output_type": "stream",
     "text": [
      "Fitting 5 folds for each of 60 candidates, totalling 300 fits\n"
     ]
    },
    {
     "name": "stderr",
     "output_type": "stream",
     "text": [
      "[Parallel(n_jobs=-1)]: Using backend LokyBackend with 8 concurrent workers.\n",
      "[Parallel(n_jobs=-1)]: Done  34 tasks      | elapsed:   22.9s\n",
      "[Parallel(n_jobs=-1)]: Done 184 tasks      | elapsed:  3.9min\n"
     ]
    }
   ],
   "source": [
    "evaluateRFModelV2(X_train_balanced, y_train_balanced, X_test, y_test)"
   ]
  },
  {
   "cell_type": "code",
   "execution_count": 8,
   "metadata": {},
   "outputs": [
    {
     "name": "stdout",
     "output_type": "stream",
     "text": [
      "3723\n",
      "(3723, 52)\n",
      "27924\n",
      "(27924, 52)\n"
     ]
    },
    {
     "data": {
      "text/html": [
       "<div>\n",
       "<style scoped>\n",
       "    .dataframe tbody tr th:only-of-type {\n",
       "        vertical-align: middle;\n",
       "    }\n",
       "\n",
       "    .dataframe tbody tr th {\n",
       "        vertical-align: top;\n",
       "    }\n",
       "\n",
       "    .dataframe thead th {\n",
       "        text-align: right;\n",
       "    }\n",
       "</style>\n",
       "<table border=\"1\" class=\"dataframe\">\n",
       "  <thead>\n",
       "    <tr style=\"text-align: right;\">\n",
       "      <th></th>\n",
       "      <th>job_admin.</th>\n",
       "      <th>job_blue-collar</th>\n",
       "      <th>job_entrepreneur</th>\n",
       "      <th>job_housemaid</th>\n",
       "      <th>job_management</th>\n",
       "      <th>job_retired</th>\n",
       "      <th>job_self-employed</th>\n",
       "      <th>job_services</th>\n",
       "      <th>job_student</th>\n",
       "      <th>job_technician</th>\n",
       "      <th>...</th>\n",
       "      <th>poutcome_success</th>\n",
       "      <th>poutcome_unknown</th>\n",
       "      <th>age_scaled</th>\n",
       "      <th>bal_scaled</th>\n",
       "      <th>day</th>\n",
       "      <th>dur_caled</th>\n",
       "      <th>campaign</th>\n",
       "      <th>pdays</th>\n",
       "      <th>previous</th>\n",
       "      <th>y</th>\n",
       "    </tr>\n",
       "  </thead>\n",
       "  <tbody>\n",
       "    <tr>\n",
       "      <th>19100</th>\n",
       "      <td>1</td>\n",
       "      <td>0</td>\n",
       "      <td>0</td>\n",
       "      <td>0</td>\n",
       "      <td>0</td>\n",
       "      <td>0</td>\n",
       "      <td>0</td>\n",
       "      <td>0</td>\n",
       "      <td>0</td>\n",
       "      <td>0</td>\n",
       "      <td>...</td>\n",
       "      <td>0</td>\n",
       "      <td>1</td>\n",
       "      <td>0.800000</td>\n",
       "      <td>-0.162979</td>\n",
       "      <td>5</td>\n",
       "      <td>0.236111</td>\n",
       "      <td>1</td>\n",
       "      <td>-1</td>\n",
       "      <td>0</td>\n",
       "      <td>no</td>\n",
       "    </tr>\n",
       "    <tr>\n",
       "      <th>37958</th>\n",
       "      <td>1</td>\n",
       "      <td>0</td>\n",
       "      <td>0</td>\n",
       "      <td>0</td>\n",
       "      <td>0</td>\n",
       "      <td>0</td>\n",
       "      <td>0</td>\n",
       "      <td>0</td>\n",
       "      <td>0</td>\n",
       "      <td>0</td>\n",
       "      <td>...</td>\n",
       "      <td>0</td>\n",
       "      <td>0</td>\n",
       "      <td>0.733333</td>\n",
       "      <td>-0.238938</td>\n",
       "      <td>14</td>\n",
       "      <td>0.865741</td>\n",
       "      <td>2</td>\n",
       "      <td>289</td>\n",
       "      <td>19</td>\n",
       "      <td>no</td>\n",
       "    </tr>\n",
       "    <tr>\n",
       "      <th>12451</th>\n",
       "      <td>0</td>\n",
       "      <td>1</td>\n",
       "      <td>0</td>\n",
       "      <td>0</td>\n",
       "      <td>0</td>\n",
       "      <td>0</td>\n",
       "      <td>0</td>\n",
       "      <td>0</td>\n",
       "      <td>0</td>\n",
       "      <td>0</td>\n",
       "      <td>...</td>\n",
       "      <td>0</td>\n",
       "      <td>1</td>\n",
       "      <td>0.000000</td>\n",
       "      <td>0.385693</td>\n",
       "      <td>1</td>\n",
       "      <td>1.347222</td>\n",
       "      <td>3</td>\n",
       "      <td>-1</td>\n",
       "      <td>0</td>\n",
       "      <td>no</td>\n",
       "    </tr>\n",
       "    <tr>\n",
       "      <th>18263</th>\n",
       "      <td>0</td>\n",
       "      <td>0</td>\n",
       "      <td>0</td>\n",
       "      <td>0</td>\n",
       "      <td>1</td>\n",
       "      <td>0</td>\n",
       "      <td>0</td>\n",
       "      <td>0</td>\n",
       "      <td>0</td>\n",
       "      <td>0</td>\n",
       "      <td>...</td>\n",
       "      <td>0</td>\n",
       "      <td>1</td>\n",
       "      <td>1.333333</td>\n",
       "      <td>-0.330383</td>\n",
       "      <td>31</td>\n",
       "      <td>-0.592593</td>\n",
       "      <td>8</td>\n",
       "      <td>-1</td>\n",
       "      <td>0</td>\n",
       "      <td>no</td>\n",
       "    </tr>\n",
       "    <tr>\n",
       "      <th>5128</th>\n",
       "      <td>0</td>\n",
       "      <td>0</td>\n",
       "      <td>0</td>\n",
       "      <td>0</td>\n",
       "      <td>0</td>\n",
       "      <td>0</td>\n",
       "      <td>0</td>\n",
       "      <td>1</td>\n",
       "      <td>0</td>\n",
       "      <td>0</td>\n",
       "      <td>...</td>\n",
       "      <td>0</td>\n",
       "      <td>1</td>\n",
       "      <td>-0.466667</td>\n",
       "      <td>-0.142330</td>\n",
       "      <td>21</td>\n",
       "      <td>-0.435185</td>\n",
       "      <td>2</td>\n",
       "      <td>-1</td>\n",
       "      <td>0</td>\n",
       "      <td>no</td>\n",
       "    </tr>\n",
       "  </tbody>\n",
       "</table>\n",
       "<p>5 rows × 52 columns</p>\n",
       "</div>"
      ],
      "text/plain": [
       "       job_admin.  job_blue-collar  job_entrepreneur  job_housemaid  \\\n",
       "19100           1                0                 0              0   \n",
       "37958           1                0                 0              0   \n",
       "12451           0                1                 0              0   \n",
       "18263           0                0                 0              0   \n",
       "5128            0                0                 0              0   \n",
       "\n",
       "       job_management  job_retired  job_self-employed  job_services  \\\n",
       "19100               0            0                  0             0   \n",
       "37958               0            0                  0             0   \n",
       "12451               0            0                  0             0   \n",
       "18263               1            0                  0             0   \n",
       "5128                0            0                  0             1   \n",
       "\n",
       "       job_student  job_technician  ...  poutcome_success  poutcome_unknown  \\\n",
       "19100            0               0  ...                 0                 1   \n",
       "37958            0               0  ...                 0                 0   \n",
       "12451            0               0  ...                 0                 1   \n",
       "18263            0               0  ...                 0                 1   \n",
       "5128             0               0  ...                 0                 1   \n",
       "\n",
       "       age_scaled  bal_scaled  day  dur_caled  campaign  pdays  previous   y  \n",
       "19100    0.800000   -0.162979    5   0.236111         1     -1         0  no  \n",
       "37958    0.733333   -0.238938   14   0.865741         2    289        19  no  \n",
       "12451    0.000000    0.385693    1   1.347222         3     -1         0  no  \n",
       "18263    1.333333   -0.330383   31  -0.592593         8     -1         0  no  \n",
       "5128    -0.466667   -0.142330   21  -0.435185         2     -1         0  no  \n",
       "\n",
       "[5 rows x 52 columns]"
      ]
     },
     "execution_count": 8,
     "metadata": {},
     "output_type": "execute_result"
    }
   ],
   "source": [
    "pdBankDF = loadTrainingData(dataFile)\n",
    "X, Y = preProcessData(pdBankDF)\n",
    "X_train, X_test, y_train, y_test = train_test_split(X, Y, test_size=0.3, random_state=123)\n",
    "\n",
    "trainData = pd.concat([X_train,y_train],axis=1)\n",
    "\n",
    "# Finding the indexes of the sample data set where the propensity is 'yes'\n",
    "ind = trainData[trainData['y']=='yes'].index\n",
    "print(len(ind))\n",
    "\n",
    "# Seperate the minority classes\n",
    "minData = trainData.loc[ind]\n",
    "print(minData.shape)\n",
    "\n",
    "# Finding indexes of majority class\n",
    "ind1 = trainData[trainData['y']=='no'].index\n",
    "print(len(ind1))\n",
    "# Seperating the majority class\n",
    "majData = trainData.loc[ind1]\n",
    "print(majData.shape)\n",
    "majData.head()"
   ]
  },
  {
   "cell_type": "code",
   "execution_count": 9,
   "metadata": {},
   "outputs": [
    {
     "name": "stdout",
     "output_type": "stream",
     "text": [
      "(3723, 52)\n"
     ]
    },
    {
     "data": {
      "text/html": [
       "<div>\n",
       "<style scoped>\n",
       "    .dataframe tbody tr th:only-of-type {\n",
       "        vertical-align: middle;\n",
       "    }\n",
       "\n",
       "    .dataframe tbody tr th {\n",
       "        vertical-align: top;\n",
       "    }\n",
       "\n",
       "    .dataframe thead th {\n",
       "        text-align: right;\n",
       "    }\n",
       "</style>\n",
       "<table border=\"1\" class=\"dataframe\">\n",
       "  <thead>\n",
       "    <tr style=\"text-align: right;\">\n",
       "      <th></th>\n",
       "      <th>job_admin.</th>\n",
       "      <th>job_blue-collar</th>\n",
       "      <th>job_entrepreneur</th>\n",
       "      <th>job_housemaid</th>\n",
       "      <th>job_management</th>\n",
       "      <th>job_retired</th>\n",
       "      <th>job_self-employed</th>\n",
       "      <th>job_services</th>\n",
       "      <th>job_student</th>\n",
       "      <th>job_technician</th>\n",
       "      <th>...</th>\n",
       "      <th>poutcome_success</th>\n",
       "      <th>poutcome_unknown</th>\n",
       "      <th>age_scaled</th>\n",
       "      <th>bal_scaled</th>\n",
       "      <th>day</th>\n",
       "      <th>dur_caled</th>\n",
       "      <th>campaign</th>\n",
       "      <th>pdays</th>\n",
       "      <th>previous</th>\n",
       "      <th>y</th>\n",
       "    </tr>\n",
       "  </thead>\n",
       "  <tbody>\n",
       "    <tr>\n",
       "      <th>17387</th>\n",
       "      <td>0</td>\n",
       "      <td>0</td>\n",
       "      <td>0</td>\n",
       "      <td>0</td>\n",
       "      <td>1</td>\n",
       "      <td>0</td>\n",
       "      <td>0</td>\n",
       "      <td>0</td>\n",
       "      <td>0</td>\n",
       "      <td>0</td>\n",
       "      <td>...</td>\n",
       "      <td>0</td>\n",
       "      <td>1</td>\n",
       "      <td>0.666667</td>\n",
       "      <td>0.752212</td>\n",
       "      <td>28</td>\n",
       "      <td>-0.425926</td>\n",
       "      <td>3</td>\n",
       "      <td>-1</td>\n",
       "      <td>0</td>\n",
       "      <td>no</td>\n",
       "    </tr>\n",
       "    <tr>\n",
       "      <th>34679</th>\n",
       "      <td>0</td>\n",
       "      <td>1</td>\n",
       "      <td>0</td>\n",
       "      <td>0</td>\n",
       "      <td>0</td>\n",
       "      <td>0</td>\n",
       "      <td>0</td>\n",
       "      <td>0</td>\n",
       "      <td>0</td>\n",
       "      <td>0</td>\n",
       "      <td>...</td>\n",
       "      <td>0</td>\n",
       "      <td>0</td>\n",
       "      <td>0.800000</td>\n",
       "      <td>0.086283</td>\n",
       "      <td>5</td>\n",
       "      <td>-0.106481</td>\n",
       "      <td>7</td>\n",
       "      <td>250</td>\n",
       "      <td>3</td>\n",
       "      <td>no</td>\n",
       "    </tr>\n",
       "    <tr>\n",
       "      <th>26572</th>\n",
       "      <td>1</td>\n",
       "      <td>0</td>\n",
       "      <td>0</td>\n",
       "      <td>0</td>\n",
       "      <td>0</td>\n",
       "      <td>0</td>\n",
       "      <td>0</td>\n",
       "      <td>0</td>\n",
       "      <td>0</td>\n",
       "      <td>0</td>\n",
       "      <td>...</td>\n",
       "      <td>0</td>\n",
       "      <td>1</td>\n",
       "      <td>0.466667</td>\n",
       "      <td>1.785398</td>\n",
       "      <td>20</td>\n",
       "      <td>-0.134259</td>\n",
       "      <td>2</td>\n",
       "      <td>-1</td>\n",
       "      <td>0</td>\n",
       "      <td>no</td>\n",
       "    </tr>\n",
       "    <tr>\n",
       "      <th>3280</th>\n",
       "      <td>0</td>\n",
       "      <td>0</td>\n",
       "      <td>0</td>\n",
       "      <td>0</td>\n",
       "      <td>0</td>\n",
       "      <td>1</td>\n",
       "      <td>0</td>\n",
       "      <td>0</td>\n",
       "      <td>0</td>\n",
       "      <td>0</td>\n",
       "      <td>...</td>\n",
       "      <td>0</td>\n",
       "      <td>1</td>\n",
       "      <td>1.200000</td>\n",
       "      <td>1.972714</td>\n",
       "      <td>15</td>\n",
       "      <td>-0.009259</td>\n",
       "      <td>1</td>\n",
       "      <td>-1</td>\n",
       "      <td>0</td>\n",
       "      <td>no</td>\n",
       "    </tr>\n",
       "    <tr>\n",
       "      <th>4434</th>\n",
       "      <td>0</td>\n",
       "      <td>0</td>\n",
       "      <td>0</td>\n",
       "      <td>0</td>\n",
       "      <td>1</td>\n",
       "      <td>0</td>\n",
       "      <td>0</td>\n",
       "      <td>0</td>\n",
       "      <td>0</td>\n",
       "      <td>0</td>\n",
       "      <td>...</td>\n",
       "      <td>0</td>\n",
       "      <td>1</td>\n",
       "      <td>-0.133333</td>\n",
       "      <td>2.011062</td>\n",
       "      <td>20</td>\n",
       "      <td>-0.055556</td>\n",
       "      <td>1</td>\n",
       "      <td>-1</td>\n",
       "      <td>0</td>\n",
       "      <td>no</td>\n",
       "    </tr>\n",
       "  </tbody>\n",
       "</table>\n",
       "<p>5 rows × 52 columns</p>\n",
       "</div>"
      ],
      "text/plain": [
       "       job_admin.  job_blue-collar  job_entrepreneur  job_housemaid  \\\n",
       "17387           0                0                 0              0   \n",
       "34679           0                1                 0              0   \n",
       "26572           1                0                 0              0   \n",
       "3280            0                0                 0              0   \n",
       "4434            0                0                 0              0   \n",
       "\n",
       "       job_management  job_retired  job_self-employed  job_services  \\\n",
       "17387               1            0                  0             0   \n",
       "34679               0            0                  0             0   \n",
       "26572               0            0                  0             0   \n",
       "3280                0            1                  0             0   \n",
       "4434                1            0                  0             0   \n",
       "\n",
       "       job_student  job_technician  ...  poutcome_success  poutcome_unknown  \\\n",
       "17387            0               0  ...                 0                 1   \n",
       "34679            0               0  ...                 0                 0   \n",
       "26572            0               0  ...                 0                 1   \n",
       "3280             0               0  ...                 0                 1   \n",
       "4434             0               0  ...                 0                 1   \n",
       "\n",
       "       age_scaled  bal_scaled  day  dur_caled  campaign  pdays  previous   y  \n",
       "17387    0.666667    0.752212   28  -0.425926         3     -1         0  no  \n",
       "34679    0.800000    0.086283    5  -0.106481         7    250         3  no  \n",
       "26572    0.466667    1.785398   20  -0.134259         2     -1         0  no  \n",
       "3280     1.200000    1.972714   15  -0.009259         1     -1         0  no  \n",
       "4434    -0.133333    2.011062   20  -0.055556         1     -1         0  no  \n",
       "\n",
       "[5 rows x 52 columns]"
      ]
     },
     "execution_count": 9,
     "metadata": {},
     "output_type": "execute_result"
    }
   ],
   "source": [
    "majSample = majData.sample(n=len(ind),random_state = 123)\n",
    "print(majSample.shape)\n",
    "majSample.head()"
   ]
  },
  {
   "cell_type": "code",
   "execution_count": 10,
   "metadata": {},
   "outputs": [
    {
     "name": "stdout",
     "output_type": "stream",
     "text": [
      "balanced data set shape (7446, 52)\n"
     ]
    },
    {
     "data": {
      "text/html": [
       "<div>\n",
       "<style scoped>\n",
       "    .dataframe tbody tr th:only-of-type {\n",
       "        vertical-align: middle;\n",
       "    }\n",
       "\n",
       "    .dataframe tbody tr th {\n",
       "        vertical-align: top;\n",
       "    }\n",
       "\n",
       "    .dataframe thead th {\n",
       "        text-align: right;\n",
       "    }\n",
       "</style>\n",
       "<table border=\"1\" class=\"dataframe\">\n",
       "  <thead>\n",
       "    <tr style=\"text-align: right;\">\n",
       "      <th></th>\n",
       "      <th>job_admin.</th>\n",
       "      <th>job_blue-collar</th>\n",
       "      <th>job_entrepreneur</th>\n",
       "      <th>job_housemaid</th>\n",
       "      <th>job_management</th>\n",
       "      <th>job_retired</th>\n",
       "      <th>job_self-employed</th>\n",
       "      <th>job_services</th>\n",
       "      <th>job_student</th>\n",
       "      <th>job_technician</th>\n",
       "      <th>...</th>\n",
       "      <th>poutcome_success</th>\n",
       "      <th>poutcome_unknown</th>\n",
       "      <th>age_scaled</th>\n",
       "      <th>bal_scaled</th>\n",
       "      <th>day</th>\n",
       "      <th>dur_caled</th>\n",
       "      <th>campaign</th>\n",
       "      <th>pdays</th>\n",
       "      <th>previous</th>\n",
       "      <th>y</th>\n",
       "    </tr>\n",
       "  </thead>\n",
       "  <tbody>\n",
       "    <tr>\n",
       "      <th>9320</th>\n",
       "      <td>0</td>\n",
       "      <td>0</td>\n",
       "      <td>0</td>\n",
       "      <td>0</td>\n",
       "      <td>0</td>\n",
       "      <td>0</td>\n",
       "      <td>0</td>\n",
       "      <td>0</td>\n",
       "      <td>0</td>\n",
       "      <td>1</td>\n",
       "      <td>...</td>\n",
       "      <td>0</td>\n",
       "      <td>1</td>\n",
       "      <td>1.266667</td>\n",
       "      <td>-0.512537</td>\n",
       "      <td>6</td>\n",
       "      <td>-0.004630</td>\n",
       "      <td>1</td>\n",
       "      <td>-1</td>\n",
       "      <td>0</td>\n",
       "      <td>no</td>\n",
       "    </tr>\n",
       "    <tr>\n",
       "      <th>8266</th>\n",
       "      <td>1</td>\n",
       "      <td>0</td>\n",
       "      <td>0</td>\n",
       "      <td>0</td>\n",
       "      <td>0</td>\n",
       "      <td>0</td>\n",
       "      <td>0</td>\n",
       "      <td>0</td>\n",
       "      <td>0</td>\n",
       "      <td>0</td>\n",
       "      <td>...</td>\n",
       "      <td>0</td>\n",
       "      <td>1</td>\n",
       "      <td>-0.400000</td>\n",
       "      <td>-0.330383</td>\n",
       "      <td>2</td>\n",
       "      <td>-0.685185</td>\n",
       "      <td>2</td>\n",
       "      <td>-1</td>\n",
       "      <td>0</td>\n",
       "      <td>no</td>\n",
       "    </tr>\n",
       "    <tr>\n",
       "      <th>31153</th>\n",
       "      <td>0</td>\n",
       "      <td>0</td>\n",
       "      <td>0</td>\n",
       "      <td>0</td>\n",
       "      <td>1</td>\n",
       "      <td>0</td>\n",
       "      <td>0</td>\n",
       "      <td>0</td>\n",
       "      <td>0</td>\n",
       "      <td>0</td>\n",
       "      <td>...</td>\n",
       "      <td>0</td>\n",
       "      <td>1</td>\n",
       "      <td>-0.733333</td>\n",
       "      <td>2.332596</td>\n",
       "      <td>26</td>\n",
       "      <td>-0.180556</td>\n",
       "      <td>2</td>\n",
       "      <td>-1</td>\n",
       "      <td>0</td>\n",
       "      <td>yes</td>\n",
       "    </tr>\n",
       "    <tr>\n",
       "      <th>33933</th>\n",
       "      <td>0</td>\n",
       "      <td>1</td>\n",
       "      <td>0</td>\n",
       "      <td>0</td>\n",
       "      <td>0</td>\n",
       "      <td>0</td>\n",
       "      <td>0</td>\n",
       "      <td>0</td>\n",
       "      <td>0</td>\n",
       "      <td>0</td>\n",
       "      <td>...</td>\n",
       "      <td>0</td>\n",
       "      <td>0</td>\n",
       "      <td>0.200000</td>\n",
       "      <td>-0.182153</td>\n",
       "      <td>30</td>\n",
       "      <td>3.060185</td>\n",
       "      <td>1</td>\n",
       "      <td>85</td>\n",
       "      <td>2</td>\n",
       "      <td>yes</td>\n",
       "    </tr>\n",
       "    <tr>\n",
       "      <th>41122</th>\n",
       "      <td>0</td>\n",
       "      <td>0</td>\n",
       "      <td>0</td>\n",
       "      <td>0</td>\n",
       "      <td>1</td>\n",
       "      <td>0</td>\n",
       "      <td>0</td>\n",
       "      <td>0</td>\n",
       "      <td>0</td>\n",
       "      <td>0</td>\n",
       "      <td>...</td>\n",
       "      <td>0</td>\n",
       "      <td>0</td>\n",
       "      <td>-0.866667</td>\n",
       "      <td>0.280236</td>\n",
       "      <td>17</td>\n",
       "      <td>-0.111111</td>\n",
       "      <td>1</td>\n",
       "      <td>199</td>\n",
       "      <td>1</td>\n",
       "      <td>yes</td>\n",
       "    </tr>\n",
       "  </tbody>\n",
       "</table>\n",
       "<p>5 rows × 52 columns</p>\n",
       "</div>"
      ],
      "text/plain": [
       "       job_admin.  job_blue-collar  job_entrepreneur  job_housemaid  \\\n",
       "9320            0                0                 0              0   \n",
       "8266            1                0                 0              0   \n",
       "31153           0                0                 0              0   \n",
       "33933           0                1                 0              0   \n",
       "41122           0                0                 0              0   \n",
       "\n",
       "       job_management  job_retired  job_self-employed  job_services  \\\n",
       "9320                0            0                  0             0   \n",
       "8266                0            0                  0             0   \n",
       "31153               1            0                  0             0   \n",
       "33933               0            0                  0             0   \n",
       "41122               1            0                  0             0   \n",
       "\n",
       "       job_student  job_technician  ...  poutcome_success  poutcome_unknown  \\\n",
       "9320             0               1  ...                 0                 1   \n",
       "8266             0               0  ...                 0                 1   \n",
       "31153            0               0  ...                 0                 1   \n",
       "33933            0               0  ...                 0                 0   \n",
       "41122            0               0  ...                 0                 0   \n",
       "\n",
       "       age_scaled  bal_scaled  day  dur_caled  campaign  pdays  previous    y  \n",
       "9320     1.266667   -0.512537    6  -0.004630         1     -1         0   no  \n",
       "8266    -0.400000   -0.330383    2  -0.685185         2     -1         0   no  \n",
       "31153   -0.733333    2.332596   26  -0.180556         2     -1         0  yes  \n",
       "33933    0.200000   -0.182153   30   3.060185         1     85         2  yes  \n",
       "41122   -0.866667    0.280236   17  -0.111111         1    199         1  yes  \n",
       "\n",
       "[5 rows x 52 columns]"
      ]
     },
     "execution_count": 10,
     "metadata": {},
     "output_type": "execute_result"
    }
   ],
   "source": [
    "\n",
    "balData = pd.concat([minData,majSample],axis = 0)\n",
    "print('balanced data set',balData.shape)\n",
    "\n",
    "from sklearn.utils import shuffle\n",
    "\n",
    "balData = shuffle(balData)\n",
    "balData.head()"
   ]
  },
  {
   "cell_type": "code",
   "execution_count": 11,
   "metadata": {},
   "outputs": [
    {
     "data": {
      "text/plain": [
       "9320      no\n",
       "8266      no\n",
       "31153    yes\n",
       "33933    yes\n",
       "41122    yes\n",
       "Name: y, dtype: object"
      ]
     },
     "execution_count": 11,
     "metadata": {},
     "output_type": "execute_result"
    }
   ],
   "source": [
    "X_trainNew = balData.iloc[:,0:51]\n",
    "X_trainNew.head()\n",
    "\n",
    "y_trainNew = balData['y']\n",
    "y_trainNew.head()"
   ]
  },
  {
   "cell_type": "code",
   "execution_count": 19,
   "metadata": {},
   "outputs": [
    {
     "name": "stdout",
     "output_type": "stream",
     "text": [
      "Fitting 5 folds for each of 80 candidates, totalling 400 fits\n"
     ]
    },
    {
     "name": "stderr",
     "output_type": "stream",
     "text": [
      "[Parallel(n_jobs=-1)]: Using backend LokyBackend with 8 concurrent workers.\n",
      "[Parallel(n_jobs=-1)]: Done  34 tasks      | elapsed:    1.5s\n",
      "[Parallel(n_jobs=-1)]: Done 400 out of 400 | elapsed:    4.1s finished\n"
     ]
    },
    {
     "name": "stdout",
     "output_type": "stream",
     "text": [
      "model score: 0.84\n",
      "[[10201  1797]\n",
      " [  298  1268]]\n",
      "              precision    recall  f1-score   support\n",
      "\n",
      "          no       0.97      0.85      0.91     11998\n",
      "         yes       0.41      0.81      0.55      1566\n",
      "\n",
      "    accuracy                           0.85     13564\n",
      "   macro avg       0.69      0.83      0.73     13564\n",
      "weighted avg       0.91      0.85      0.87     13564\n",
      "\n"
     ]
    }
   ],
   "source": [
    "evaluateModelLRV2(X_trainNew, y_trainNew, X_test, y_test)"
   ]
  },
  {
   "cell_type": "code",
   "execution_count": 20,
   "metadata": {},
   "outputs": [
    {
     "name": "stdout",
     "output_type": "stream",
     "text": [
      "Fitting 5 folds for each of 60 candidates, totalling 300 fits\n"
     ]
    },
    {
     "name": "stderr",
     "output_type": "stream",
     "text": [
      "[Parallel(n_jobs=-1)]: Using backend LokyBackend with 8 concurrent workers.\n",
      "[Parallel(n_jobs=-1)]: Done  52 tasks      | elapsed:    4.6s\n",
      "[Parallel(n_jobs=-1)]: Done 208 tasks      | elapsed:   26.2s\n",
      "[Parallel(n_jobs=-1)]: Done 300 out of 300 | elapsed:   47.9s finished\n"
     ]
    },
    {
     "name": "stdout",
     "output_type": "stream",
     "text": [
      "model score: 1.00\n",
      "[[9981 2017]\n",
      " [ 187 1379]]\n",
      "              precision    recall  f1-score   support\n",
      "\n",
      "          no       0.98      0.83      0.90     11998\n",
      "         yes       0.41      0.88      0.56      1566\n",
      "\n",
      "    accuracy                           0.84     13564\n",
      "   macro avg       0.69      0.86      0.73     13564\n",
      "weighted avg       0.92      0.84      0.86     13564\n",
      "\n"
     ]
    }
   ],
   "source": [
    "evaluateRFModelV2(X_trainNew, y_trainNew, X_test, y_test)"
   ]
  },
  {
   "cell_type": "code",
   "execution_count": 24,
   "metadata": {},
   "outputs": [
    {
     "data": {
      "text/plain": [
       "'Decision-Tree-full.png'"
      ]
     },
     "execution_count": 24,
     "metadata": {},
     "output_type": "execute_result"
    }
   ],
   "source": [
    "#!pip install graphviz\n",
    "import matplotlib.pyplot as plt\n",
    "import graphviz\n",
    "from sklearn import tree\n",
    "\n",
    "dec_tree = tree.DecisionTreeClassifier(max_depth= 5, class_weight=\"balanced\", random_state = 1234)\n",
    "dec_tree.fit(X_train,y_train)\n",
    "\n",
    "dot_data = tree.export_graphviz(dec_tree, out_file=None, feature_names=list(X_train.columns.values),\n",
    "                                     class_names=[\"No\", \"Yes\"], filled=True, rounded=True, special_characters=True)\n",
    "\n",
    "graph = graphviz.Source(dot_data)\n",
    "graph.format = 'png'\n",
    "graph.render(\"Decision-Tree-full\", view=False)\n"
   ]
  },
  {
   "cell_type": "code",
   "execution_count": 64,
   "metadata": {},
   "outputs": [
    {
     "ename": "NameError",
     "evalue": "name 'updatedBankDF' is not defined",
     "output_type": "error",
     "traceback": [
      "\u001b[0;31m---------------------------------------------------------------------------\u001b[0m",
      "\u001b[0;31mNameError\u001b[0m                                 Traceback (most recent call last)",
      "\u001b[0;32m<ipython-input-64-90ec484d96d1>\u001b[0m in \u001b[0;36m<module>\u001b[0;34m\u001b[0m\n\u001b[1;32m      1\u001b[0m \u001b[0;31m#Further fine-tune the model and select only required elements\u001b[0m\u001b[0;34m\u001b[0m\u001b[0;34m\u001b[0m\u001b[0;34m\u001b[0m\u001b[0m\n\u001b[1;32m      2\u001b[0m \u001b[0;34m\u001b[0m\u001b[0m\n\u001b[0;32m----> 3\u001b[0;31m \u001b[0mX_train\u001b[0m\u001b[0;34m,\u001b[0m \u001b[0mX_test\u001b[0m\u001b[0;34m,\u001b[0m \u001b[0my_train\u001b[0m\u001b[0;34m,\u001b[0m \u001b[0my_test\u001b[0m \u001b[0;34m=\u001b[0m \u001b[0msplitTrainingData\u001b[0m\u001b[0;34m(\u001b[0m\u001b[0mupdatedBankDF\u001b[0m\u001b[0;34m)\u001b[0m\u001b[0;34m\u001b[0m\u001b[0;34m\u001b[0m\u001b[0m\n\u001b[0m\u001b[1;32m      4\u001b[0m \u001b[0;34m\u001b[0m\u001b[0m\n\u001b[1;32m      5\u001b[0m cols = ['job_entrepreneur','job_housemaid',\n",
      "\u001b[0;31mNameError\u001b[0m: name 'updatedBankDF' is not defined"
     ]
    }
   ],
   "source": [
    "#Further fine-tune the model and select only required elements\n",
    "\n",
    "X_train, X_test, y_train, y_test = splitTrainingData(updatedBankDF)\n",
    "\n",
    "cols = ['job_entrepreneur','job_housemaid',\n",
    "       'job_management', 'job_retired', 'job_services',\n",
    "        'job_student', 'job_technician', 'job_unemployed', 'job_unknown',\n",
    "       'marital_divorced', 'marital_married', 'marital_single',\n",
    "       'education_primary', 'education_secondary', 'education_tertiary',\n",
    "       'education_unknown', 'default_no', 'default_yes', 'housing_no',\n",
    "       'housing_yes', 'loan_no', 'loan_yes', 'contact_cellular',\n",
    "       'contact_telephone', 'contact_unknown', 'month_apr', 'month_aug',\n",
    "       'month_dec', 'month_feb', 'month_jan', 'month_jul', 'month_jun',\n",
    "       'month_mar', 'month_may', 'month_nov', 'month_oct', 'month_sep',\n",
    "       'poutcome_failure', 'poutcome_other', 'poutcome_success',\n",
    "       'poutcome_unknown','age_scaled', 'bal_scaled', 'day','dur_caled', 'campaign', ]\n",
    "\n",
    "X, Y = preProcessDataV2(pdBankDF)\n",
    "X_selected = X[cols]\n",
    "X_train_trimmed, X_test, y_train_trimmed, y_test = train_test_split(X, Y, test_size=0.3, random_state=123)\n",
    "\n",
    "dtreeModelV2 = buildAndRunLogRegModelV2(RANDOM_STATE,X_train, X_test, y_train, y_test, preprocessor)\n",
    "predictAndMeasurePerformence(X_test,dtreeModelV2)"
   ]
  },
  {
   "cell_type": "code",
   "execution_count": null,
   "metadata": {},
   "outputs": [],
   "source": []
  }
 ],
 "metadata": {
  "environment": {
   "name": "tf2-2-2-cpu.2-2.m48",
   "type": "gcloud",
   "uri": "gcr.io/deeplearning-platform-release/tf2-2-2-cpu.2-2:m48"
  },
  "kernelspec": {
   "display_name": "Python 3",
   "language": "python",
   "name": "python3"
  },
  "language_info": {
   "codemirror_mode": {
    "name": "ipython",
    "version": 3
   },
   "file_extension": ".py",
   "mimetype": "text/x-python",
   "name": "python",
   "nbconvert_exporter": "python",
   "pygments_lexer": "ipython3",
   "version": "3.7.6"
  },
  "widgets": {
   "application/vnd.jupyter.widget-state+json": {
    "state": {},
    "version_major": 2,
    "version_minor": 0
   }
  }
 },
 "nbformat": 4,
 "nbformat_minor": 4
}
